{
 "cells": [
  {
   "cell_type": "markdown",
   "id": "4d404814",
   "metadata": {},
   "source": [
    "Web Scraping the Ryman Calendar\n",
    "In this exercise, your objective is to use BeautifulSoup in order to obtain a dataset of upcoming events at the Ryman. This information is available at https://ryman.com/events/, but you will take the contents of this website and convert it into a pandas DataFrame.\n",
    "\n",
    "The website splits the events across multiple pages, but start by just working on the first page. Later on in the exercise, you'll take what you've done for the first page and apply it across other pages.\n",
    "\n",
    "1) Start by using either the inspector or by viewing the page source. Can you identify a tag that might be helpful for finding the names of all performers? For now, just worry about the headliner and don't worry about the opener. (Eg. For Vince Gill, featuring Wendy Moten, we only care about Vince Gill.) Make use of this to create a list containing just the names of each headliner.\n",
    "\n",
    "2) Next, try and find a tag that could be used to find the date and time for each show. Extract these into two lists, one containing the date and the other containing the time. (Eg. THURSDAY, AUGUST 4, 2022 AT 8:00 PM CDT should be split into August 4, 2022 and 8:00 PM CDT.)\n",
    "\n",
    "3) Take the three lists you created on parts 1 and 2 and convert them into a pandas DataFrame.\n",
    "\n",
    "4) Now, you need to take what you created for the first page and apply it across multiple rest of the pages so that you can scrape all inductees. Notice how the url changes when you click the \"More Events\" button at the top of the page. Check that the code that you wrote for the first page still works for page 2. Once you have verified that your code will still work, write a for loop that will cycle through the first five pages of events.\n",
    "\n",
    "5) Bonus #1:: Add to your data frame the opening act for all shows that list an opener.\n",
    "\n",
    "6) Bonus #2: If you click the \"MORE INFO\" button for an event, it will take you to a page which shows ticket prices. Write code that can be used to retrieve the ticket prices for each show that you have scraped. Make sure that your code can handle cases where the show is sold out (eg. https://ryman.com/event/revivalists/)."
   ]
  },
  {
   "cell_type": "code",
   "execution_count": 24,
   "id": "d4028a64",
   "metadata": {},
   "outputs": [],
   "source": [
    "import requests\n",
    "from bs4 import BeautifulSoup as BS\n",
    "from IPython.core.display import HTML\n",
    "import pandas as pd"
   ]
  },
  {
   "cell_type": "code",
   "execution_count": 25,
   "id": "0fe2e06b",
   "metadata": {},
   "outputs": [],
   "source": [
    "URL = 'https://ryman.com/events/'\n",
    "\n",
    "response = requests.get(URL)"
   ]
  },
  {
   "cell_type": "code",
   "execution_count": 26,
   "id": "ae6d9981",
   "metadata": {},
   "outputs": [],
   "source": [
    "soup = BS(response.text)"
   ]
  },
  {
   "cell_type": "code",
   "execution_count": 27,
   "id": "ab1ce65b",
   "metadata": {},
   "outputs": [
    {
     "data": {
      "text/plain": [
       "<h2 class=\"tribe-events-visuallyhidden\">Events Search and Views Navigation</h2>"
      ]
     },
     "execution_count": 27,
     "metadata": {},
     "output_type": "execute_result"
    }
   ],
   "source": [
    "soup.find('h2')"
   ]
  },
  {
   "cell_type": "code",
   "execution_count": 28,
   "id": "2d4a5468",
   "metadata": {},
   "outputs": [
    {
     "data": {
      "text/plain": [
       "[<h2 class=\"tribe-events-visuallyhidden\">Events Search and Views Navigation</h2>,\n",
       " <h2 class=\"tribe-events-list-event-title\">\n",
       " <a class=\"tribe-event-url\" href=\"https://ryman.com/event/carly-pearce-102722/\" rel=\"bookmark\" title=\"Carly Pearce\">\n",
       " \t\tCarly Pearce\t</a>\n",
       " </h2>,\n",
       " <h2 class=\"tribe-events-list-event-title\">\n",
       " <a class=\"tribe-event-url\" href=\"https://ryman.com/event/mt-joy-102822/\" rel=\"bookmark\" title=\"Mt. Joy\">\n",
       " \t\tMt. Joy\t</a>\n",
       " </h2>,\n",
       " <h2 class=\"tribe-events-list-event-title\">\n",
       " <a class=\"tribe-event-url\" href=\"https://ryman.com/event/mt-joy-102922/\" rel=\"bookmark\" title=\"Mt. Joy\">\n",
       " \t\tMt. Joy\t</a>\n",
       " </h2>,\n",
       " <h2 class=\"tribe-events-list-event-title\">\n",
       " <a class=\"tribe-event-url\" href=\"https://ryman.com/event/sidewalk-sessions-103022/\" rel=\"bookmark\" title=\"Ryman Sidewalk Sessions\">\n",
       " \t\tRyman Sidewalk Sessions\t</a>\n",
       " </h2>,\n",
       " <h2 class=\"tribe-events-list-event-title\">\n",
       " <a class=\"tribe-event-url\" href=\"https://ryman.com/event/marcus-mumford/\" rel=\"bookmark\" title=\"Marcus Mumford\">\n",
       " \t\tMarcus Mumford\t</a>\n",
       " </h2>,\n",
       " <h2 class=\"tribe-events-list-event-title\">\n",
       " <a class=\"tribe-event-url\" href=\"https://ryman.com/event/puscifer/\" rel=\"bookmark\" title=\"Puscifer\">\n",
       " \t\tPuscifer\t</a>\n",
       " </h2>,\n",
       " <h2 class=\"tribe-events-list-event-title\">\n",
       " <a class=\"tribe-event-url\" href=\"https://ryman.com/event/gipsy-kings/\" rel=\"bookmark\" title=\"Gipsy Kings featuring Nicolas Reyes\">\n",
       " \t\tGipsy Kings featuring Nicolas Reyes\t</a>\n",
       " </h2>,\n",
       " <h2 class=\"tribe-events-list-event-title\">\n",
       " <a class=\"tribe-event-url\" href=\"https://ryman.com/event/sidewalk-sessions-110222/\" rel=\"bookmark\" title=\"Ryman Sidewalk Sessions\">\n",
       " \t\tRyman Sidewalk Sessions\t</a>\n",
       " </h2>,\n",
       " <h2 class=\"tribe-events-list-event-title\">\n",
       " <a class=\"tribe-event-url\" href=\"https://ryman.com/event/cole-swindell-110222/\" rel=\"bookmark\" title=\"Cole Swindell\">\n",
       " \t\tCole Swindell\t</a>\n",
       " </h2>,\n",
       " <h2 class=\"tribe-events-list-event-title\">\n",
       " <a class=\"tribe-event-url\" href=\"https://ryman.com/event/sidewalk-sessions-110322/\" rel=\"bookmark\" title=\"Ryman Sidewalk Sessions\">\n",
       " \t\tRyman Sidewalk Sessions\t</a>\n",
       " </h2>,\n",
       " <h2 class=\"tribe-events-list-event-title\">\n",
       " <a class=\"tribe-event-url\" href=\"https://ryman.com/event/cole-swindell-110322/\" rel=\"bookmark\" title=\"Cole Swindell\">\n",
       " \t\tCole Swindell\t</a>\n",
       " </h2>,\n",
       " <h2 class=\"tribe-events-list-event-title\">\n",
       " <a class=\"tribe-event-url\" href=\"https://ryman.com/event/the-lone-bellow-110422/\" rel=\"bookmark\" title=\"The Lone Bellow\">\n",
       " \t\tThe Lone Bellow\t</a>\n",
       " </h2>,\n",
       " <h2 class=\"tribe-events-list-event-title\">\n",
       " <a class=\"tribe-event-url\" href=\"https://ryman.com/event/we-the-kingdom/\" rel=\"bookmark\" title=\"We The Kingdom\">\n",
       " \t\tWe The Kingdom\t</a>\n",
       " </h2>,\n",
       " <h2 class=\"tribe-events-list-event-title\">\n",
       " <a class=\"tribe-event-url\" href=\"https://ryman.com/event/revivalists/\" rel=\"bookmark\" title=\"The Revivalists\">\n",
       " \t\tThe Revivalists\t</a>\n",
       " </h2>,\n",
       " <h2 class=\"tribe-events-list-event-title\">\n",
       " <a class=\"tribe-event-url\" href=\"https://ryman.com/event/revivalists-110722/\" rel=\"bookmark\" title=\"The Revivalists\">\n",
       " \t\tThe Revivalists\t</a>\n",
       " </h2>,\n",
       " <h2 class=\"tribe-events-list-event-title\">\n",
       " <a class=\"tribe-event-url\" href=\"https://ryman.com/event/dayglow/\" rel=\"bookmark\" title=\"Dayglow\">\n",
       " \t\tDayglow\t</a>\n",
       " </h2>,\n",
       " <h2 class=\"tribe-events-list-event-title\">\n",
       " <a class=\"tribe-event-url\" href=\"https://ryman.com/event/bono/\" rel=\"bookmark\" title=\"Bono: Stories of Surrender\">\n",
       " \t\tBono: Stories of Surrender\t</a>\n",
       " </h2>,\n",
       " <h2 class=\"tribe-events-list-event-title\">\n",
       " <a class=\"tribe-event-url\" href=\"https://ryman.com/event/chris-renzema/\" rel=\"bookmark\" title=\"Chris Renzema\">\n",
       " \t\tChris Renzema\t</a>\n",
       " </h2>,\n",
       " <h2 class=\"tribe-events-list-event-title\">\n",
       " <a class=\"tribe-event-url\" href=\"https://ryman.com/event/craig-morgan/\" rel=\"bookmark\" title=\"Craig Morgan\">\n",
       " \t\tCraig Morgan\t</a>\n",
       " </h2>,\n",
       " <h2 class=\"tribe-events-list-event-title\">\n",
       " <a class=\"tribe-event-url\" href=\"https://ryman.com/event/louder-with-crowder/\" rel=\"bookmark\" title=\"Louder with Crowder\">\n",
       " \t\tLouder with Crowder\t</a>\n",
       " </h2>,\n",
       " <h2 class=\"tribe-events-title\">\n",
       " <a href=\"https://ryman.com/event/sidewalk-sessions-102722/\" rel=\"bookmark\">Ryman Sidewalk Sessions</a>\n",
       " </h2>,\n",
       " <h2 class=\"tribe-events-title\">\n",
       " <a href=\"https://ryman.com/event/carly-pearce-102722/\" rel=\"bookmark\">Carly Pearce</a>\n",
       " </h2>,\n",
       " <h2 class=\"tribe-events-title\">\n",
       " <a href=\"https://ryman.com/event/mt-joy-102822/\" rel=\"bookmark\">Mt. Joy</a>\n",
       " </h2>,\n",
       " <h2 class=\"tribe-events-title\">\n",
       " <a href=\"https://ryman.com/event/mt-joy-102922/\" rel=\"bookmark\">Mt. Joy</a>\n",
       " </h2>,\n",
       " <h2 class=\"tribe-events-title\">\n",
       " <a href=\"https://ryman.com/event/sidewalk-sessions-103022/\" rel=\"bookmark\">Ryman Sidewalk Sessions</a>\n",
       " </h2>,\n",
       " <h2>Tour <br/>The Ryman</h2>,\n",
       " <h2>Show <br/>Calendar</h2>,\n",
       " <h2><br/>Shop</h2>,\n",
       " <h2>Explore <br/>Our History</h2>,\n",
       " <h2>Stay In Touch</h2>]"
      ]
     },
     "execution_count": 28,
     "metadata": {},
     "output_type": "execute_result"
    }
   ],
   "source": [
    "h2tag = soup.findAll('h2')\n",
    "h2tag"
   ]
  },
  {
   "cell_type": "code",
   "execution_count": null,
   "id": "9c5c3192",
   "metadata": {},
   "outputs": [],
   "source": [
    "h2tag_headliner = [x.get('title') for x in h2tag]\n",
    "h2tag_headliner"
   ]
  },
  {
   "cell_type": "code",
   "execution_count": 23,
   "id": "0926797f",
   "metadata": {},
   "outputs": [
    {
     "data": {
      "text/plain": [
       "'Carly Pearce'"
      ]
     },
     "execution_count": 23,
     "metadata": {},
     "output_type": "execute_result"
    }
   ],
   "source": [
    "soup.findAll('h2')[1].find('a').get('title')"
   ]
  },
  {
   "cell_type": "code",
   "execution_count": 37,
   "id": "daa3a3c5",
   "metadata": {},
   "outputs": [
    {
     "data": {
      "text/plain": [
       "[None,\n",
       " <a class=\"tribe-event-url\" href=\"https://ryman.com/event/carly-pearce-102722/\" rel=\"bookmark\" title=\"Carly Pearce\">\n",
       " \t\tCarly Pearce\t</a>,\n",
       " <a class=\"tribe-event-url\" href=\"https://ryman.com/event/mt-joy-102822/\" rel=\"bookmark\" title=\"Mt. Joy\">\n",
       " \t\tMt. Joy\t</a>,\n",
       " <a class=\"tribe-event-url\" href=\"https://ryman.com/event/mt-joy-102922/\" rel=\"bookmark\" title=\"Mt. Joy\">\n",
       " \t\tMt. Joy\t</a>,\n",
       " <a class=\"tribe-event-url\" href=\"https://ryman.com/event/sidewalk-sessions-103022/\" rel=\"bookmark\" title=\"Ryman Sidewalk Sessions\">\n",
       " \t\tRyman Sidewalk Sessions\t</a>,\n",
       " <a class=\"tribe-event-url\" href=\"https://ryman.com/event/marcus-mumford/\" rel=\"bookmark\" title=\"Marcus Mumford\">\n",
       " \t\tMarcus Mumford\t</a>,\n",
       " <a class=\"tribe-event-url\" href=\"https://ryman.com/event/puscifer/\" rel=\"bookmark\" title=\"Puscifer\">\n",
       " \t\tPuscifer\t</a>,\n",
       " <a class=\"tribe-event-url\" href=\"https://ryman.com/event/gipsy-kings/\" rel=\"bookmark\" title=\"Gipsy Kings featuring Nicolas Reyes\">\n",
       " \t\tGipsy Kings featuring Nicolas Reyes\t</a>,\n",
       " <a class=\"tribe-event-url\" href=\"https://ryman.com/event/sidewalk-sessions-110222/\" rel=\"bookmark\" title=\"Ryman Sidewalk Sessions\">\n",
       " \t\tRyman Sidewalk Sessions\t</a>,\n",
       " <a class=\"tribe-event-url\" href=\"https://ryman.com/event/cole-swindell-110222/\" rel=\"bookmark\" title=\"Cole Swindell\">\n",
       " \t\tCole Swindell\t</a>,\n",
       " <a class=\"tribe-event-url\" href=\"https://ryman.com/event/sidewalk-sessions-110322/\" rel=\"bookmark\" title=\"Ryman Sidewalk Sessions\">\n",
       " \t\tRyman Sidewalk Sessions\t</a>,\n",
       " <a class=\"tribe-event-url\" href=\"https://ryman.com/event/cole-swindell-110322/\" rel=\"bookmark\" title=\"Cole Swindell\">\n",
       " \t\tCole Swindell\t</a>,\n",
       " <a class=\"tribe-event-url\" href=\"https://ryman.com/event/the-lone-bellow-110422/\" rel=\"bookmark\" title=\"The Lone Bellow\">\n",
       " \t\tThe Lone Bellow\t</a>,\n",
       " <a class=\"tribe-event-url\" href=\"https://ryman.com/event/we-the-kingdom/\" rel=\"bookmark\" title=\"We The Kingdom\">\n",
       " \t\tWe The Kingdom\t</a>,\n",
       " <a class=\"tribe-event-url\" href=\"https://ryman.com/event/revivalists/\" rel=\"bookmark\" title=\"The Revivalists\">\n",
       " \t\tThe Revivalists\t</a>,\n",
       " <a class=\"tribe-event-url\" href=\"https://ryman.com/event/revivalists-110722/\" rel=\"bookmark\" title=\"The Revivalists\">\n",
       " \t\tThe Revivalists\t</a>,\n",
       " <a class=\"tribe-event-url\" href=\"https://ryman.com/event/dayglow/\" rel=\"bookmark\" title=\"Dayglow\">\n",
       " \t\tDayglow\t</a>,\n",
       " <a class=\"tribe-event-url\" href=\"https://ryman.com/event/bono/\" rel=\"bookmark\" title=\"Bono: Stories of Surrender\">\n",
       " \t\tBono: Stories of Surrender\t</a>,\n",
       " <a class=\"tribe-event-url\" href=\"https://ryman.com/event/chris-renzema/\" rel=\"bookmark\" title=\"Chris Renzema\">\n",
       " \t\tChris Renzema\t</a>,\n",
       " <a class=\"tribe-event-url\" href=\"https://ryman.com/event/craig-morgan/\" rel=\"bookmark\" title=\"Craig Morgan\">\n",
       " \t\tCraig Morgan\t</a>,\n",
       " <a class=\"tribe-event-url\" href=\"https://ryman.com/event/louder-with-crowder/\" rel=\"bookmark\" title=\"Louder with Crowder\">\n",
       " \t\tLouder with Crowder\t</a>,\n",
       " <a href=\"https://ryman.com/event/sidewalk-sessions-102722/\" rel=\"bookmark\">Ryman Sidewalk Sessions</a>,\n",
       " <a href=\"https://ryman.com/event/carly-pearce-102722/\" rel=\"bookmark\">Carly Pearce</a>,\n",
       " <a href=\"https://ryman.com/event/mt-joy-102822/\" rel=\"bookmark\">Mt. Joy</a>,\n",
       " <a href=\"https://ryman.com/event/mt-joy-102922/\" rel=\"bookmark\">Mt. Joy</a>,\n",
       " <a href=\"https://ryman.com/event/sidewalk-sessions-103022/\" rel=\"bookmark\">Ryman Sidewalk Sessions</a>,\n",
       " None,\n",
       " None,\n",
       " None,\n",
       " None,\n",
       " None]"
      ]
     },
     "execution_count": 37,
     "metadata": {},
     "output_type": "execute_result"
    }
   ],
   "source": [
    "h2atag = [x.find('a') for x in h2tag]\n",
    "h2atag"
   ]
  },
  {
   "cell_type": "code",
   "execution_count": 49,
   "id": "843dc438",
   "metadata": {},
   "outputs": [
    {
     "data": {
      "text/plain": [
       "[<a class=\"tribe-event-url\" href=\"https://ryman.com/event/carly-pearce-102722/\" rel=\"bookmark\" title=\"Carly Pearce\">\n",
       " \t\tCarly Pearce\t</a>,\n",
       " <a class=\"tribe-event-url\" href=\"https://ryman.com/event/mt-joy-102822/\" rel=\"bookmark\" title=\"Mt. Joy\">\n",
       " \t\tMt. Joy\t</a>,\n",
       " <a class=\"tribe-event-url\" href=\"https://ryman.com/event/mt-joy-102922/\" rel=\"bookmark\" title=\"Mt. Joy\">\n",
       " \t\tMt. Joy\t</a>,\n",
       " <a class=\"tribe-event-url\" href=\"https://ryman.com/event/sidewalk-sessions-103022/\" rel=\"bookmark\" title=\"Ryman Sidewalk Sessions\">\n",
       " \t\tRyman Sidewalk Sessions\t</a>,\n",
       " <a class=\"tribe-event-url\" href=\"https://ryman.com/event/marcus-mumford/\" rel=\"bookmark\" title=\"Marcus Mumford\">\n",
       " \t\tMarcus Mumford\t</a>,\n",
       " <a class=\"tribe-event-url\" href=\"https://ryman.com/event/puscifer/\" rel=\"bookmark\" title=\"Puscifer\">\n",
       " \t\tPuscifer\t</a>,\n",
       " <a class=\"tribe-event-url\" href=\"https://ryman.com/event/gipsy-kings/\" rel=\"bookmark\" title=\"Gipsy Kings featuring Nicolas Reyes\">\n",
       " \t\tGipsy Kings featuring Nicolas Reyes\t</a>,\n",
       " <a class=\"tribe-event-url\" href=\"https://ryman.com/event/sidewalk-sessions-110222/\" rel=\"bookmark\" title=\"Ryman Sidewalk Sessions\">\n",
       " \t\tRyman Sidewalk Sessions\t</a>,\n",
       " <a class=\"tribe-event-url\" href=\"https://ryman.com/event/cole-swindell-110222/\" rel=\"bookmark\" title=\"Cole Swindell\">\n",
       " \t\tCole Swindell\t</a>,\n",
       " <a class=\"tribe-event-url\" href=\"https://ryman.com/event/sidewalk-sessions-110322/\" rel=\"bookmark\" title=\"Ryman Sidewalk Sessions\">\n",
       " \t\tRyman Sidewalk Sessions\t</a>,\n",
       " <a class=\"tribe-event-url\" href=\"https://ryman.com/event/cole-swindell-110322/\" rel=\"bookmark\" title=\"Cole Swindell\">\n",
       " \t\tCole Swindell\t</a>,\n",
       " <a class=\"tribe-event-url\" href=\"https://ryman.com/event/the-lone-bellow-110422/\" rel=\"bookmark\" title=\"The Lone Bellow\">\n",
       " \t\tThe Lone Bellow\t</a>,\n",
       " <a class=\"tribe-event-url\" href=\"https://ryman.com/event/we-the-kingdom/\" rel=\"bookmark\" title=\"We The Kingdom\">\n",
       " \t\tWe The Kingdom\t</a>,\n",
       " <a class=\"tribe-event-url\" href=\"https://ryman.com/event/revivalists/\" rel=\"bookmark\" title=\"The Revivalists\">\n",
       " \t\tThe Revivalists\t</a>,\n",
       " <a class=\"tribe-event-url\" href=\"https://ryman.com/event/revivalists-110722/\" rel=\"bookmark\" title=\"The Revivalists\">\n",
       " \t\tThe Revivalists\t</a>,\n",
       " <a class=\"tribe-event-url\" href=\"https://ryman.com/event/dayglow/\" rel=\"bookmark\" title=\"Dayglow\">\n",
       " \t\tDayglow\t</a>,\n",
       " <a class=\"tribe-event-url\" href=\"https://ryman.com/event/bono/\" rel=\"bookmark\" title=\"Bono: Stories of Surrender\">\n",
       " \t\tBono: Stories of Surrender\t</a>,\n",
       " <a class=\"tribe-event-url\" href=\"https://ryman.com/event/chris-renzema/\" rel=\"bookmark\" title=\"Chris Renzema\">\n",
       " \t\tChris Renzema\t</a>,\n",
       " <a class=\"tribe-event-url\" href=\"https://ryman.com/event/craig-morgan/\" rel=\"bookmark\" title=\"Craig Morgan\">\n",
       " \t\tCraig Morgan\t</a>,\n",
       " <a class=\"tribe-event-url\" href=\"https://ryman.com/event/louder-with-crowder/\" rel=\"bookmark\" title=\"Louder with Crowder\">\n",
       " \t\tLouder with Crowder\t</a>]"
      ]
     },
     "execution_count": 49,
     "metadata": {},
     "output_type": "execute_result"
    }
   ],
   "source": [
    "events = soup.findAll('a', attrs={'class' : 'tribe-event-url'})\n",
    "events"
   ]
  },
  {
   "cell_type": "code",
   "execution_count": 48,
   "id": "d2f82e86",
   "metadata": {},
   "outputs": [
    {
     "data": {
      "text/plain": [
       "['Carly Pearce',\n",
       " 'Mt. Joy',\n",
       " 'Mt. Joy',\n",
       " 'Ryman Sidewalk Sessions',\n",
       " 'Marcus Mumford',\n",
       " 'Puscifer',\n",
       " 'Gipsy Kings featuring Nicolas Reyes',\n",
       " 'Ryman Sidewalk Sessions',\n",
       " 'Cole Swindell',\n",
       " 'Ryman Sidewalk Sessions',\n",
       " 'Cole Swindell',\n",
       " 'The Lone Bellow',\n",
       " 'We The Kingdom',\n",
       " 'The Revivalists',\n",
       " 'The Revivalists',\n",
       " 'Dayglow',\n",
       " 'Bono: Stories of Surrender',\n",
       " 'Chris Renzema',\n",
       " 'Craig Morgan',\n",
       " 'Louder with Crowder']"
      ]
     },
     "execution_count": 48,
     "metadata": {},
     "output_type": "execute_result"
    }
   ],
   "source": [
    "headliners = [x.get('title') for x in events]\n",
    "headliners"
   ]
  },
  {
   "cell_type": "code",
   "execution_count": 60,
   "id": "052b4163",
   "metadata": {},
   "outputs": [],
   "source": [
    "date_and_time = soup.findAll('time')"
   ]
  },
  {
   "cell_type": "code",
   "execution_count": null,
   "id": "811dfa44",
   "metadata": {},
   "outputs": [],
   "source": []
  }
 ],
 "metadata": {
  "kernelspec": {
   "display_name": "Python 3",
   "language": "python",
   "name": "python3"
  },
  "language_info": {
   "codemirror_mode": {
    "name": "ipython",
    "version": 3
   },
   "file_extension": ".py",
   "mimetype": "text/x-python",
   "name": "python",
   "nbconvert_exporter": "python",
   "pygments_lexer": "ipython3",
   "version": "3.8.8"
  }
 },
 "nbformat": 4,
 "nbformat_minor": 5
}
